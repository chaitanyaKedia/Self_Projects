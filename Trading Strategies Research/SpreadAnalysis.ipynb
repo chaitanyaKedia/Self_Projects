{
 "cells": [
  {
   "cell_type": "code",
   "execution_count": 1,
   "metadata": {},
   "outputs": [],
   "source": [
    "import pandas as pd\n",
    "import time"
   ]
  },
  {
   "cell_type": "code",
   "execution_count": 29,
   "metadata": {},
   "outputs": [],
   "source": [
    "df= pd.read_csv(r'C:\\Users\\kedia\\Downloads\\option-chain-ED-NIFTY-22-Jul-2021.csv', header = 1)\n",
    "df.drop([\"Unnamed: 0\",\"Unnamed: 22\"], axis = 1, inplace = True)\n",
    "arr=['OI_CALL', 'CHNG IN OI_CALL', 'VOLUME_CALL', 'IV_CALL',\n",
    " 'LTP_CALL', 'CHNG_CALL', 'BID QTY_CALL', 'BID PRICE_CALL',\n",
    " 'ASK PRICE_CALL', 'ASK QTY_CALL', 'STRIKE PRICE', 'BID QTY_PUT',\n",
    " 'BID PRICE_PUT', 'ASK PRICE_PUT', 'ASK QTY_PUT', 'CHNG_PUT',\n",
    " 'LTP_PUT', 'IV_PUT', 'VOLUME_PUT', 'CHNG IN OI_PUT', 'OI_PUT']\n",
    "\n",
    "df.columns=arr\n",
    "df= df[[\"BID PRICE_CALL\", \"ASK PRICE_CALL\", \"BID PRICE_PUT\", \"ASK PRICE_PUT\", \"STRIKE PRICE\"]]\n",
    "df = df[df[\"BID PRICE_CALL\"]!=\"-\"]\n",
    "df = df[df[\"BID PRICE_PUT\"]!=\"-\"]\n",
    "df = df[df[\"ASK PRICE_CALL\"]!=\"-\"]\n",
    "df = df[df[\"ASK PRICE_PUT\"]!=\"-\"]\n",
    "gain = pd.DataFrame(columns= [\"lower_strike\",\"higher_strike\",\"gain\",\"gain_inv\"])\n",
    "for i in range(len(df)):\n",
    "    try:\n",
    "        df.iloc[i][\"STRIKE PRICE\"] = float(df.iloc[i][\"STRIKE PRICE\"].replace(',',''))\n",
    "        df.iloc[i][\"ASK PRICE_CALL\"] =float(df.iloc[i][\"ASK PRICE_CALL\"].replace(',',''))\n",
    "        df.iloc[i][\"ASK PRICE_PUT\"] = float(df.iloc[i][\"ASK PRICE_PUT\"].replace(',',''))\n",
    "        df.iloc[i][\"BID PRICE_PUT\"] = float(df.iloc[i][\"BID PRICE_PUT\"].replace(',',''))\n",
    "        df.iloc[i][\"BID PRICE_CALL\"] = float(df.iloc[i][\"BID PRICE_CALL\"].replace(',',''))\n",
    "    except:\n",
    "        continue"
   ]
  },
  {
   "cell_type": "code",
   "execution_count": 30,
   "metadata": {},
   "outputs": [],
   "source": [
    "for i in range(len(df)):\n",
    "    [short_call_inv,long_call,short_put,long_put_inv, lower_strike] = df.iloc[i]\n",
    "    \n",
    "    for j in range(i+1,len(df)):\n",
    "        \n",
    "        ##Buy bull and bear spread\n",
    "        [short_call, long_call_inv, short_put_inv,long_put, higher_strike] = df.iloc[j]\n",
    "        pnL=short_call - long_call + short_put - long_put + higher_strike - lower_strike     \n",
    "        pnL_inv = short_call_inv - long_call_inv + short_put_inv - long_put_inv + lower_strike - higher_strike\n",
    "        if pnL>1 or pnL_inv>1:\n",
    "            gain.loc[len(gain.index)] = [lower_strike, higher_strike, pnL, pnL_inv]"
   ]
  },
  {
   "cell_type": "code",
   "execution_count": 31,
   "metadata": {},
   "outputs": [
    {
     "data": {
      "text/html": [
       "<div>\n",
       "<style scoped>\n",
       "    .dataframe tbody tr th:only-of-type {\n",
       "        vertical-align: middle;\n",
       "    }\n",
       "\n",
       "    .dataframe tbody tr th {\n",
       "        vertical-align: top;\n",
       "    }\n",
       "\n",
       "    .dataframe thead th {\n",
       "        text-align: right;\n",
       "    }\n",
       "</style>\n",
       "<table border=\"1\" class=\"dataframe\">\n",
       "  <thead>\n",
       "    <tr style=\"text-align: right;\">\n",
       "      <th></th>\n",
       "      <th>lower_strike</th>\n",
       "      <th>higher_strike</th>\n",
       "      <th>gain</th>\n",
       "      <th>gain_inv</th>\n",
       "    </tr>\n",
       "  </thead>\n",
       "  <tbody>\n",
       "  </tbody>\n",
       "</table>\n",
       "</div>"
      ],
      "text/plain": [
       "Empty DataFrame\n",
       "Columns: [lower_strike, higher_strike, gain, gain_inv]\n",
       "Index: []"
      ]
     },
     "execution_count": 31,
     "metadata": {},
     "output_type": "execute_result"
    }
   ],
   "source": [
    "gain[gain[\"gain\"]>0]\n",
    "gain[gain[\"gain_inv\"]>0]"
   ]
  },
  {
   "cell_type": "code",
   "execution_count": 32,
   "metadata": {
    "scrolled": true
   },
   "outputs": [
    {
     "data": {
      "text/html": [
       "<div>\n",
       "<style scoped>\n",
       "    .dataframe tbody tr th:only-of-type {\n",
       "        vertical-align: middle;\n",
       "    }\n",
       "\n",
       "    .dataframe tbody tr th {\n",
       "        vertical-align: top;\n",
       "    }\n",
       "\n",
       "    .dataframe thead th {\n",
       "        text-align: right;\n",
       "    }\n",
       "</style>\n",
       "<table border=\"1\" class=\"dataframe\">\n",
       "  <thead>\n",
       "    <tr style=\"text-align: right;\">\n",
       "      <th></th>\n",
       "      <th>lower_strike</th>\n",
       "      <th>higher_strike</th>\n",
       "      <th>gain</th>\n",
       "      <th>gain_inv</th>\n",
       "    </tr>\n",
       "  </thead>\n",
       "  <tbody>\n",
       "    <tr>\n",
       "      <th>0</th>\n",
       "      <td>15350.0</td>\n",
       "      <td>15700.0</td>\n",
       "      <td>1.05</td>\n",
       "      <td>-3.75</td>\n",
       "    </tr>\n",
       "  </tbody>\n",
       "</table>\n",
       "</div>"
      ],
      "text/plain": [
       "   lower_strike  higher_strike  gain  gain_inv\n",
       "0       15350.0        15700.0  1.05     -3.75"
      ]
     },
     "execution_count": 32,
     "metadata": {},
     "output_type": "execute_result"
    }
   ],
   "source": [
    "gain[gain[\"gain\"]>0]"
   ]
  },
  {
   "cell_type": "code",
   "execution_count": 38,
   "metadata": {},
   "outputs": [
    {
     "data": {
      "text/html": [
       "<div>\n",
       "<style scoped>\n",
       "    .dataframe tbody tr th:only-of-type {\n",
       "        vertical-align: middle;\n",
       "    }\n",
       "\n",
       "    .dataframe tbody tr th {\n",
       "        vertical-align: top;\n",
       "    }\n",
       "\n",
       "    .dataframe thead th {\n",
       "        text-align: right;\n",
       "    }\n",
       "</style>\n",
       "<table border=\"1\" class=\"dataframe\">\n",
       "  <thead>\n",
       "    <tr style=\"text-align: right;\">\n",
       "      <th></th>\n",
       "      <th>BID PRICE_CALL</th>\n",
       "      <th>ASK PRICE_CALL</th>\n",
       "      <th>BID PRICE_PUT</th>\n",
       "      <th>ASK PRICE_PUT</th>\n",
       "      <th>STRIKE PRICE</th>\n",
       "    </tr>\n",
       "  </thead>\n",
       "  <tbody>\n",
       "    <tr>\n",
       "      <th>0</th>\n",
       "      <td>2314.5</td>\n",
       "      <td>2386.5</td>\n",
       "      <td>0.35</td>\n",
       "      <td>0.4</td>\n",
       "      <td>13400</td>\n",
       "    </tr>\n",
       "    <tr>\n",
       "      <th>1</th>\n",
       "      <td>2265.65</td>\n",
       "      <td>2334.05</td>\n",
       "      <td>0.45</td>\n",
       "      <td>0.5</td>\n",
       "      <td>13450</td>\n",
       "    </tr>\n",
       "    <tr>\n",
       "      <th>2</th>\n",
       "      <td>2215.15</td>\n",
       "      <td>2280.7</td>\n",
       "      <td>0.3</td>\n",
       "      <td>0.4</td>\n",
       "      <td>13500</td>\n",
       "    </tr>\n",
       "    <tr>\n",
       "      <th>3</th>\n",
       "      <td>2134.7</td>\n",
       "      <td>2235.5</td>\n",
       "      <td>0.25</td>\n",
       "      <td>0.35</td>\n",
       "      <td>13550</td>\n",
       "    </tr>\n",
       "    <tr>\n",
       "      <th>4</th>\n",
       "      <td>2086.35</td>\n",
       "      <td>2186.35</td>\n",
       "      <td>0.35</td>\n",
       "      <td>0.45</td>\n",
       "      <td>13600</td>\n",
       "    </tr>\n",
       "    <tr>\n",
       "      <th>...</th>\n",
       "      <td>...</td>\n",
       "      <td>...</td>\n",
       "      <td>...</td>\n",
       "      <td>...</td>\n",
       "      <td>...</td>\n",
       "    </tr>\n",
       "    <tr>\n",
       "      <th>76</th>\n",
       "      <td>0.9</td>\n",
       "      <td>0.95</td>\n",
       "      <td>1432</td>\n",
       "      <td>1464.85</td>\n",
       "      <td>17200</td>\n",
       "    </tr>\n",
       "    <tr>\n",
       "      <th>77</th>\n",
       "      <td>0.8</td>\n",
       "      <td>0.9</td>\n",
       "      <td>1481.9</td>\n",
       "      <td>1514.8</td>\n",
       "      <td>17250</td>\n",
       "    </tr>\n",
       "    <tr>\n",
       "      <th>78</th>\n",
       "      <td>0.75</td>\n",
       "      <td>0.85</td>\n",
       "      <td>1530.85</td>\n",
       "      <td>1564.2</td>\n",
       "      <td>17300</td>\n",
       "    </tr>\n",
       "    <tr>\n",
       "      <th>79</th>\n",
       "      <td>0.75</td>\n",
       "      <td>0.8</td>\n",
       "      <td>1580.75</td>\n",
       "      <td>1614.25</td>\n",
       "      <td>17350</td>\n",
       "    </tr>\n",
       "    <tr>\n",
       "      <th>80</th>\n",
       "      <td>0.7</td>\n",
       "      <td>0.75</td>\n",
       "      <td>1631.05</td>\n",
       "      <td>1652.5</td>\n",
       "      <td>17400</td>\n",
       "    </tr>\n",
       "  </tbody>\n",
       "</table>\n",
       "<p>81 rows × 5 columns</p>\n",
       "</div>"
      ],
      "text/plain": [
       "   BID PRICE_CALL ASK PRICE_CALL BID PRICE_PUT ASK PRICE_PUT STRIKE PRICE\n",
       "0          2314.5         2386.5          0.35           0.4        13400\n",
       "1         2265.65        2334.05          0.45           0.5        13450\n",
       "2         2215.15         2280.7           0.3           0.4        13500\n",
       "3          2134.7         2235.5          0.25          0.35        13550\n",
       "4         2086.35        2186.35          0.35          0.45        13600\n",
       "..            ...            ...           ...           ...          ...\n",
       "76            0.9           0.95          1432       1464.85        17200\n",
       "77            0.8            0.9        1481.9        1514.8        17250\n",
       "78           0.75           0.85       1530.85        1564.2        17300\n",
       "79           0.75            0.8       1580.75       1614.25        17350\n",
       "80            0.7           0.75       1631.05        1652.5        17400\n",
       "\n",
       "[81 rows x 5 columns]"
      ]
     },
     "execution_count": 38,
     "metadata": {},
     "output_type": "execute_result"
    }
   ],
   "source": [
    "df"
   ]
  },
  {
   "cell_type": "code",
   "execution_count": 39,
   "metadata": {
    "scrolled": true
   },
   "outputs": [
    {
     "data": {
      "text/html": [
       "<div>\n",
       "<style scoped>\n",
       "    .dataframe tbody tr th:only-of-type {\n",
       "        vertical-align: middle;\n",
       "    }\n",
       "\n",
       "    .dataframe tbody tr th {\n",
       "        vertical-align: top;\n",
       "    }\n",
       "\n",
       "    .dataframe thead th {\n",
       "        text-align: right;\n",
       "    }\n",
       "</style>\n",
       "<table border=\"1\" class=\"dataframe\">\n",
       "  <thead>\n",
       "    <tr style=\"text-align: right;\">\n",
       "      <th></th>\n",
       "      <th>BID PRICE_CALL</th>\n",
       "      <th>ASK PRICE_CALL</th>\n",
       "      <th>BID PRICE_PUT</th>\n",
       "      <th>ASK PRICE_PUT</th>\n",
       "      <th>STRIKE PRICE</th>\n",
       "    </tr>\n",
       "  </thead>\n",
       "  <tbody>\n",
       "    <tr>\n",
       "      <th>39</th>\n",
       "      <td>407.15</td>\n",
       "      <td>409.35</td>\n",
       "      <td>6.1</td>\n",
       "      <td>6.15</td>\n",
       "      <td>15350</td>\n",
       "    </tr>\n",
       "  </tbody>\n",
       "</table>\n",
       "</div>"
      ],
      "text/plain": [
       "   BID PRICE_CALL ASK PRICE_CALL BID PRICE_PUT ASK PRICE_PUT STRIKE PRICE\n",
       "39         407.15         409.35           6.1          6.15        15350"
      ]
     },
     "execution_count": 39,
     "metadata": {},
     "output_type": "execute_result"
    }
   ],
   "source": [
    "df[df[\"STRIKE PRICE\"]==15350]"
   ]
  }
 ],
 "metadata": {
  "kernelspec": {
   "display_name": "Python 3",
   "language": "python",
   "name": "python3"
  },
  "language_info": {
   "codemirror_mode": {
    "name": "ipython",
    "version": 3
   },
   "file_extension": ".py",
   "mimetype": "text/x-python",
   "name": "python",
   "nbconvert_exporter": "python",
   "pygments_lexer": "ipython3",
   "version": "3.8.3"
  }
 },
 "nbformat": 4,
 "nbformat_minor": 4
}
