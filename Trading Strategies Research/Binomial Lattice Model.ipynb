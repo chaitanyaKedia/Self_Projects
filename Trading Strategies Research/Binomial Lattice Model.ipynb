{
 "cells": [
  {
   "cell_type": "markdown",
   "metadata": {},
   "source": [
    "# Binomial Lattice Model\n"
   ]
  },
  {
   "cell_type": "markdown",
   "metadata": {},
   "source": [
    "# Assumptions\n",
    "<ul>\n",
    "    <li>Binomial Lattice model works with the assumption of Efficient Market Hypothesis which states current price of stock     reflects all available information and will change only with the arrival of a new info</li>\n",
    "    <ul>\n",
    "        <li>Do not worry about past history of stocks</li>\n",
    "        <li>Start with current stock price and worry about future</li>\n",
    "    </ul>\n",
    "</ul>\n",
    "\n"
   ]
  },
  {
   "cell_type": "markdown",
   "metadata": {},
   "source": [
    "Let the current price of stock be S<sub>0</sub> at time t = 0<br>\n",
    "Since stock has no expiry so duration of a stock is the semi - infinite interval -- [0, $\\infty$)<br>\n",
    "Now, partition the interval into equal parts (t<sub>0</sub>,t<sub>1</sub>,t<sub>2</sub>,t<sub>3</sub>,.....)<br>\n",
    "We will analyze the interval [t<sub>k</sub>,t<sub>k+1</sub>] to build a one step binomial model for k = 0,1,2, ....<br>\n",
    "Let the price of stock be S<sub>k</sub> at time t = t<sub>k</sub><br>\n",
    "Let r<sub>k</sub> be the interest rate during [t<sub>k</sub>,t<sub>k+1</sub>]<br>\n",
    "Let d<sub>k</sub>(down) and u<sub>k</sub>(up) be such that 0 < d<sub>k</sub> < e<sup>r<sub>k</sub>T</sup> < u<sub>k</sub> [NO ARBITRAGE CONDITION] (Assuming continuous compounding)<br>"
   ]
  },
  {
   "cell_type": "markdown",
   "metadata": {},
   "source": [
    "Model evaluates the probability for the current price S<sub>k</sub> to jump to S<sub>k</sub>u<sub>k</sub> or S<sub>k</sub>d<sub>k</sub><br>\n",
    "Sample space for the 1 step BLM is {u<sub>k</sub>,d<sub>k</sub>}, therefore $\\sigma$-field is the power set<br>\n",
    "Discrete Probability => P<sub>k</sub> = \n",
    "<ul>\n",
    "    <li>p<sub>k</sub>, if s = u<sub>k</sub></li>\n",
    "    <li>1 - p<sub>k</sub>, if s = d<sub>k</sub></li>\n",
    "</ul>\n",
    "where p<sub>k</sub> $\\epsilon$ (0,1)<br>\n",
    "\n",
    "Define the random variable X<sub>k+1</sub>(s) = S<sub>k</sub>s"
   ]
  },
  {
   "cell_type": "markdown",
   "metadata": {},
   "source": [
    "Stock price at t = t<sub>k+1</sub> is taken to be S<sub>k+1</sub> = X<sub>k+1</sub>, given the stock price at t = t<sub>k</sub><br>\n",
    "Therefore for  1 step BLM,<br>\n",
    "At t = t<sub>k+1</sub>,<br>\n",
    "&nbsp;&nbsp;stock price is S<sub>k</sub>u<sub>k</sub> with probability p<sub>k</sub>, or<br>\n",
    "&nbsp;&nbsp;stock price is S<sub>k</sub>d<sub>k</sub> with probability 1 - p<sub>k</sub>"
   ]
  },
  {
   "cell_type": "markdown",
   "metadata": {},
   "source": [
    "<b>Note</b> --> We can input S<sub>k</sub> from the spot market<br>\n",
    "&nbsp;&nbsp;&nbsp;&nbsp;&nbsp;&nbsp;&nbsp; and r<sub>k</sub> can be input from bond market"
   ]
  },
  {
   "cell_type": "markdown",
   "metadata": {},
   "source": [
    "### Fair Game Criteria\n",
    "Expected Present Value should be equal to S<sub>0</sub><br>\n",
    "E[S] = PV(S<sub>0</sub>u) * p + PV(S<sub>0</sub>d) * (1-p)<br>\n",
    "E[S] = S<sub>0</sub> = PV(S<sub>0</sub>u) * p + PV(S<sub>0</sub>d) * (1-p)<br>\n",
    "#### risk neutral probability\n",
    "p = [S<sub>0</sub> - PV(S<sub>0</sub>d)]/[PV(S<sub>0</sub>u) - PV(S<sub>0</sub>d)]<br>\n",
    "p = [1-PV(d)]/[PV(u) - PV(d)]<br>\n",
    "<b>Note</b> that p $\\epsilon$ (0,1) due to no-arbitrage condition"
   ]
  },
  {
   "cell_type": "code",
   "execution_count": 234,
   "metadata": {},
   "outputs": [],
   "source": [
    "import math\n",
    "import matplotlib.pyplot as plt\n",
    "import pandas as pd\n",
    "import numpy as np"
   ]
  },
  {
   "cell_type": "code",
   "execution_count": 175,
   "metadata": {},
   "outputs": [],
   "source": [
    "def PV(x,r,t, nature = \"continuous\"):\n",
    "    '''\n",
    "    Function to calculate the present value\n",
    "    '''\n",
    "    if nature == \"continuous\":\n",
    "        return x * math.exp(-r * t)\n",
    "def BLM_prob(u,d,r,t):\n",
    "    '''\n",
    "    Function to calculate probability of upside movement using Binomial Lattice Model\n",
    "    '''\n",
    "    pv_up = PV(u,r,t)\n",
    "    pv_down = PV(d,r,t)\n",
    "    return (1 - pv_down) / (pv_up - pv_down)"
   ]
  },
  {
   "cell_type": "code",
   "execution_count": 176,
   "metadata": {},
   "outputs": [
    {
     "name": "stdout",
     "output_type": "stream",
     "text": [
      "Probability of stock going upto 16500.0 in 365 days is 0.9637\n",
      "Probability of stock going upto 16500.0 in 182.5 days is 0.7299\n",
      "Probability of stock going upto 16500.0 in 30.42 days is 0.538\n",
      "Probability of stock going upto 16500.0 in 1.45 days is 0.5018\n",
      "Probability of stock going upto 16500.0 in 0.24 days is 0.5003\n"
     ]
    }
   ],
   "source": [
    "#Interest rate per annum\n",
    "r = 0.0344\n",
    "#Current Stock Price\n",
    "S0 = 15900\n",
    "#Let's say from our intuition we think that stock either touches 1260 or 675\n",
    "u = 16500/S0\n",
    "d = 15300/S0\n",
    "#Time to maturity\n",
    "t_arr = [1, 1/2,1/12,1/252, 1/(252*6)]\n",
    "#Now, we need to find the risk-neutral probability p, calculated on fair game criteria\n",
    "#Using continuous compounding interest scheme\n",
    "for t in t_arr:\n",
    "    p = BLM_prob(u,d,r,t)\n",
    "    print(\"Probability of stock going upto {x} in {year} days is {prob}\".format(x = S0*u, year = round(t*365,2),prob = round(p,4)))"
   ]
  },
  {
   "cell_type": "markdown",
   "metadata": {},
   "source": [
    "# Multistep- Binomial Model"
   ]
  },
  {
   "cell_type": "markdown",
   "metadata": {},
   "source": [
    "Can be visualized as tossing single coins several times, where each tossing is assumed to be independent<br>\n",
    "start with t = 0 and apply single step BLM sequentially to reach t<sub>k+1</sub>"
   ]
  },
  {
   "cell_type": "markdown",
   "metadata": {},
   "source": [
    "Assume- We bought a stock at t = 0 and decide to hold it till t = T, therefore period is [0,T]<br>\n",
    "Now, divide this period into n intervals for a n step BLM i.e {t<sub>0</sub> = 0, t<sub>1</sub> = T/n, t<sub>2</sub> = 2T/n,..., t<sub>n</sub> = T}<br>\n",
    "Now, you need to define upward and downward movement of stock at each time step<br>\n",
    "at t = 0, we have S<sub>0</sub>\n",
    "at t = t<sub>1</sub>, we have {S<sub>0</sub>u<sub>0</sub>, S<sub>0</sub>d<sub>0</sub>} with probability {p<sub>0</sub>,1-p<sub>0</sub>}<br>\n",
    "at t = t<sub>2</sub>, we have {S<sub>0</sub>u<sub>0</sub>u<sub>1</sub>,S<sub>0</sub>u<sub>0</sub>d<sub>1</sub>, S<sub>0</sub>d<sub>0</sub>u<sub>1</sub>,S<sub>0</sub>d<sub>0</sub>d<sub>1</sub>} with probability {{p<sub>1</sub>,1-p<sub>1</sub>},{p<sub>1</sub>,1-p<sub>1</sub>}}<br>\n",
    "and so on\n",
    "\n",
    "P({s}) = P1({s<sub>0</sub>})P2({s<sub>1</sub>})..... [because events are independent]<br>\n",
    "where s<sub>0</sub> = {u<sub>0</sub>,d<sub>0</sub>}, s<sub>1</sub> = {u<sub>1</sub>,d<sub>1</sub>}<br>"
   ]
  },
  {
   "cell_type": "code",
   "execution_count": 177,
   "metadata": {},
   "outputs": [],
   "source": [
    "from math import comb"
   ]
  },
  {
   "cell_type": "code",
   "execution_count": 178,
   "metadata": {},
   "outputs": [],
   "source": [
    "def create_paths(S0,u,d,r,t,layers):\n",
    "    \n",
    "    p = BLM_prob(u,d,r,t)\n",
    "    print(p)\n",
    "    path = []\n",
    "    for i in range(layers):\n",
    "        stock_price = S0 * u**(layers - i - 1) * d**i\n",
    "        prob_stock_price = comb(layers - 1,i)* p**(layers - i - 1) * (1-p)**i\n",
    "        path.append([stock_price,prob_stock_price])\n",
    "    return path"
   ]
  },
  {
   "cell_type": "code",
   "execution_count": 179,
   "metadata": {
    "scrolled": true
   },
   "outputs": [
    {
     "name": "stdout",
     "output_type": "stream",
     "text": [
      "0.5000676123474248\n"
     ]
    }
   ],
   "source": [
    "# Now assuming that uk = u0 and dk = d0, we will try bulding our model\n",
    "#Interest rate per annum\n",
    "r = 0.0344\n",
    "#Current Stock Price\n",
    "S0 = 15900\n",
    "#Let's say from our intuition we think that stock either touches 1260 or 675\n",
    "sigma = 0.2\n",
    "num_layers = 1000\n",
    "strike_price = 16000\n",
    "t = 1/(252*375*3)\n",
    "u = math.exp(sigma*math.sqrt(t))\n",
    "d = 1/u\n",
    "final_path = create_paths(S0,u,d,r,t,layers = num_layers)"
   ]
  },
  {
   "cell_type": "code",
   "execution_count": 180,
   "metadata": {},
   "outputs": [
    {
     "name": "stdout",
     "output_type": "stream",
     "text": [
      "15899.998070687561\n",
      "36.41826982957358\n"
     ]
    }
   ],
   "source": [
    "exp_val = 0\n",
    "exp_premium = 0\n",
    "for i in final_path:\n",
    "    exp_val = exp_val + i[0] * i[1]\n",
    "    exp_premium = exp_premium + max(i[0]-strike_price,0)*i[1]\n",
    "print(PV(exp_val,r,t*num_layers))\n",
    "print(PV(exp_premium,r,t*num_layers))"
   ]
  },
  {
   "cell_type": "code",
   "execution_count": 181,
   "metadata": {},
   "outputs": [],
   "source": [
    "stock_prices = [item[0] for item in final_path]\n",
    "stock_price_p = [item[1] for item in final_path]"
   ]
  },
  {
   "cell_type": "code",
   "execution_count": 182,
   "metadata": {},
   "outputs": [
    {
     "data": {
      "text/plain": [
       "(12000.0, 20000.0)"
      ]
     },
     "execution_count": 182,
     "metadata": {},
     "output_type": "execute_result"
    },
    {
     "data": {
      "image/png": "[encoded data removed]",
      "text/plain": [
       "<Figure size 1152x432 with 1 Axes>"
      ]
     },
     "metadata": {
      "needs_background": "light"
     },
     "output_type": "display_data"
    }
   ],
   "source": [
    "plt.figure(figsize = (16,6))\n",
    "plt.scatter(stock_prices,stock_price_p)\n",
    "plt.xlim([12000,20000])"
   ]
  },
  {
   "cell_type": "markdown",
   "metadata": {},
   "source": [
    "# Lognormal Model"
   ]
  },
  {
   "cell_type": "markdown",
   "metadata": {},
   "source": [
    "We need to consider continuous time model rather than discrete time model<br>\n",
    "Also, we need to assume continuous values for S i.e anything in the interval (S - $\\epsilon$, S + $\\epsilon$)<br>"
   ]
  },
  {
   "cell_type": "markdown",
   "metadata": {},
   "source": [
    "Now, firstly we will update our model to continuous random variable"
   ]
  },
  {
   "cell_type": "markdown",
   "metadata": {},
   "source": [
    "We assume that during an interval S(t<sub>k+1</sub>) = S(t<sub>k</sub>)e<sup>rt<sub>k</sub></sup><br>\n",
    "and these e<sup>rt<sub>k</sub></sup> are iid and have expectation $\\mu$<sup>$\\sim$</sup> and variance $\\sigma$<sup>$\\sim$2</sup><br>\n",
    "E[ln(S(1)/S(0)] = $\\mu$<br>\n",
    "Var[ln(S(1)/S(0)] =$\\sigma$<sup>2</sup><br>\n",
    "$\\mu$ = n$\\mu$<sup>$\\sim$</sup><br>\n",
    "$\\sigma$<sup>2</sup> = n$\\sigma$<sup>$\\sim$2</sup>"
   ]
  },
  {
   "attachments": {},
   "cell_type": "markdown",
   "metadata": {},
   "source": [
    "P[(ln(S(1)/S(0)) - $\\mu$)/$\\sigma$<=r] = P[(ln(S(1)/S(0)) - n$\\mu$<sup>$\\sim$</sup>)/$\\sigma$<sup>$\\sim$</sup>$\\sqrt{n}$<=r]<br>\n",
    "Therfore central limit theorem can be applied\n",
    "Lim<sub>n-->$\\infty$</sub>[P[(ln(S(1)/S(0)) - n$\\mu$<sup>$\\sim$</sup>)/$\\sigma$<sup>$\\sim$</sup>$\\sqrt{n}$<=r]] = $\\phi$(r)<br>\n",
    "[ln(S(1)/S(0)) - $\\mu$]/$\\sigma$ $\\sim$ N(0,1)<br>\n",
    "ln(S(1)/S(0))$\\sim$ N($\\mu$,$\\sigma$<sup>2</sup>)<br>\n",
    "S(1)/S(0) is lognormally distributed<br>\n",
    "$\\mu$<sub>T</sub> = $\\mu$T<br>\n",
    "$\\sigma$<sub>T</sub><sup>2</sup> = $\\sigma$<sup>2</sup>T<br>\n",
    "ln(S(T)/S(0))$\\sim$N($\\mu$T,$\\sigma$<sup>2</sup>T)\n",
    "S(T)/S(0) is lognormally distributed"
   ]
  },
  {
   "cell_type": "markdown",
   "metadata": {},
   "source": [
    "### Therefore stock price follows lognormal distribution"
   ]
  },
  {
   "cell_type": "markdown",
   "metadata": {},
   "source": [
    "Now, to obtain $\\mu$ and $\\sigma$, we will be using past 1 year data to get these parameters"
   ]
  },
  {
   "cell_type": "code",
   "execution_count": 293,
   "metadata": {},
   "outputs": [],
   "source": [
    "df = pd.read_csv('nifty_past1yr.csv',parse_dates = True)\n",
    "df = df[[\"Date\",\"Close\"]]\n",
    "df.dropna(inplace = True)\n",
    "\n",
    "df1 = pd.read_csv('nifty_past_past_1yr.csv',parse_dates = True)\n",
    "df1 = df1[[\"Date\",\"Close\"]]\n",
    "df1.dropna(inplace = True)\n",
    "\n",
    "df2 = pd.read_csv('nifty_past_past_past_1yr.csv',parse_dates = True)\n",
    "df2 = df2[[\"Date\",\"Close\"]]\n",
    "df2.dropna(inplace = True)\n",
    "\n",
    "df = pd.concat([df2,df1,df],axis = 0)\n",
    "df[\"Close_1_before\"] = df[\"Close\"].shift(1)\n",
    "df[\"ln(S/s0)\"] = np.log(df[\"Close\"] / df[\"Close_1_before\"])\n",
    "df.dropna(inplace = True)"
   ]
  },
  {
   "cell_type": "code",
   "execution_count": 294,
   "metadata": {},
   "outputs": [],
   "source": [
    "mu_daily = df[\"ln(S/s0)\"].mean()\n",
    "std_daily = df[\"ln(S/s0)\"].std(ddof = 1)\n",
    "mu_yearly = mu_daily * 252\n",
    "std_yearly = std_daily * np.sqrt(252)"
   ]
  },
  {
   "cell_type": "code",
   "execution_count": 299,
   "metadata": {},
   "outputs": [
    {
     "data": {
      "text/plain": [
       "(array([ 1.,  0.,  0.,  0.,  0.,  0.,  0.,  0.,  0.,  0.,  0.,  0.,  0.,\n",
       "         0.,  0.,  0.,  0.,  0.,  0.,  0.,  0.,  1.,  0.,  0.,  1.,  0.,\n",
       "         0.,  0.,  0.,  0.,  0.,  0.,  1.,  1.,  0.,  1.,  0.,  0.,  1.,\n",
       "         1.,  2.,  1.,  1.,  2.,  1.,  5.,  4.,  8.,  8., 14., 15., 25.,\n",
       "        43., 46., 61., 73., 82., 84., 79., 61., 36., 22., 22.,  8.,  6.,\n",
       "         5.,  3.,  1.,  3.,  0.,  1.,  3.,  1.,  0.,  1.,  0.,  0.,  1.,\n",
       "         1.,  0.,  0.,  1.,  0.,  0.,  0.,  0.,  0.,  0.,  0.,  1.]),\n",
       " array([-0.13903754, -0.13655932, -0.13408109, -0.13160286, -0.12912463,\n",
       "        -0.12664641, -0.12416818, -0.12168995, -0.11921172, -0.1167335 ,\n",
       "        -0.11425527, -0.11177704, -0.10929882, -0.10682059, -0.10434236,\n",
       "        -0.10186413, -0.09938591, -0.09690768, -0.09442945, -0.09195123,\n",
       "        -0.089473  , -0.08699477, -0.08451654, -0.08203832, -0.07956009,\n",
       "        -0.07708186, -0.07460364, -0.07212541, -0.06964718, -0.06716895,\n",
       "        -0.06469073, -0.0622125 , -0.05973427, -0.05725604, -0.05477782,\n",
       "        -0.05229959, -0.04982136, -0.04734314, -0.04486491, -0.04238668,\n",
       "        -0.03990845, -0.03743023, -0.034952  , -0.03247377, -0.02999555,\n",
       "        -0.02751732, -0.02503909, -0.02256086, -0.02008264, -0.01760441,\n",
       "        -0.01512618, -0.01264796, -0.01016973, -0.0076915 , -0.00521327,\n",
       "        -0.00273505, -0.00025682,  0.00222141,  0.00469964,  0.00717786,\n",
       "         0.00965609,  0.01213432,  0.01461254,  0.01709077,  0.019569  ,\n",
       "         0.02204723,  0.02452545,  0.02700368,  0.02948191,  0.03196013,\n",
       "         0.03443836,  0.03691659,  0.03939482,  0.04187304,  0.04435127,\n",
       "         0.0468295 ,  0.04930772,  0.05178595,  0.05426418,  0.05674241,\n",
       "         0.05922063,  0.06169886,  0.06417709,  0.06665532,  0.06913354,\n",
       "         0.07161177,  0.07409   ,  0.07656822,  0.07904645,  0.08152468,\n",
       "         0.08400291]),\n",
       " <a list of 90 Patch objects>)"
      ]
     },
     "execution_count": 299,
     "metadata": {},
     "output_type": "execute_result"
    },
    {
     "data": {
      "image/png": "[encoded data removed]",
      "text/plain": [
       "<Figure size 432x288 with 1 Axes>"
      ]
     },
     "metadata": {
      "needs_background": "light"
     },
     "output_type": "display_data"
    }
   ],
   "source": [
    "plt.hist(df[\"ln(S/s0)\"].values,bins = 90)"
   ]
  },
  {
   "cell_type": "code",
   "execution_count": null,
   "metadata": {},
   "outputs": [],
   "source": []
  },
  {
   "cell_type": "code",
   "execution_count": null,
   "metadata": {},
   "outputs": [],
   "source": []
  }
 ],
 "metadata": {
  "kernelspec": {
   "display_name": "Python 3",
   "language": "python",
   "name": "python3"
  },
  "language_info": {
   "codemirror_mode": {
    "name": "ipython",
    "version": 3
   },
   "file_extension": ".py",
   "mimetype": "text/x-python",
   "name": "python",
   "nbconvert_exporter": "python",
   "pygments_lexer": "ipython3",
   "version": "3.8.3"
  }
 },
 "nbformat": 4,
 "nbformat_minor": 4
}
