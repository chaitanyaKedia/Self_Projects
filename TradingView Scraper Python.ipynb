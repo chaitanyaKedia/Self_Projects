{
 "cells": [
  {
   "cell_type": "code",
   "execution_count": null,
   "metadata": {},
   "outputs": [],
   "source": [
    "import requests\n",
    "from selenium import webdriver\n",
    "import datetime\n",
    "import time\n",
    "from selenium.webdriver.common.by import By\n",
    "from selenium.webdriver.support.ui import WebDriverWait\n",
    "from selenium.webdriver.support import expected_conditions as EC\n",
    "from xlrd import open_workbook\n",
    "from selenium.webdriver.common.keys import Keys\n",
    "Email_id=\"ckksad@gmail.com\"\n",
    "Pass=\"9769968006ck\"\n",
    "Channel=\"952828322\"#Channel Id of our bot\n",
    "browser = webdriver.Chrome()\n",
    "browser.get(('https://in.tradingview.com/#signin'))\n",
    "Email=browser.find_element_by_xpath('/html/body/div[9]/div/div[2]/div/div/div/div/div/div[1]/div[4]/div/form[1]/div[1]/div[1]/input')\n",
    "Email.send_keys(Email_id)\n",
    "password=browser.find_element_by_xpath('/html/body/div[9]/div/div[2]/div/div/div/div/div/div[1]/div[4]/div/form[1]/div[2]/div[1]/div[1]/input')\n",
    "password.send_keys(Pass)\n",
    "signin=browser.find_element_by_xpath('/html/body/div[9]/div/div[2]/div/div/div/div/div/div[1]/div[4]/div/form[1]/div[3]/div[2]/button')\n",
    "signin.click()#Sign in Process Done\n",
    "browser.implicitly_wait(10)#Let the platform to load\n",
    "while(1==1):\n",
    "    data_name=browser.find_element_by_xpath('/html/body/div[1]/div/div[1]/div[1]/div[2]/div[2]/div[2]/div[2]/table/tbody/tr[1]/td[1]/div/div/div/div[2]')#Scrape the topmost alert's stock's name\n",
    "    name=name=data_name.text.split(',')[0]\n",
    "    data_message=browser.find_element_by_xpath('/html/body/div[1]/div/div[1]/div[1]/div[2]/div[2]/div[2]/div[2]/table/tbody/tr[1]/td[2]/div/div/div')#Scrape the respective message\n",
    "    message=data_message.text\n",
    "    data_date_time=browser.find_element_by_xpath('/html/body/div[1]/div/div[1]/div[1]/div[2]/div[2]/div[2]/div[2]/table/tbody/tr[1]/td[3]')#Scrape the respective Date and Time\n",
    "    date_time=data_date_time.text\n",
    "    tele_name=\"https://api.telegram.org/bot1057935331:AAGTaDyHg7uP7E_Vj0RZRLcORo2Y2sq4Kwg/sendMessage?text=\"+name+\"&chat_id=\"+Channel\n",
    "    tele_message=\"https://api.telegram.org/bot1057935331:AAGTaDyHg7uP7E_Vj0RZRLcORo2Y2sq4Kwg/sendMessage?text=\"+message+\"&chat_id=\"+Channel\n",
    "    tele_date_time=\"https://api.telegram.org/bot1057935331:AAGTaDyHg7uP7E_Vj0RZRLcORo2Y2sq4Kwg/sendMessage?text=\"+date_time+\"&chat_id=\"+Channel\n",
    "    requests.get(tele_name)#Send Stock's Name to the Telegram bot\n",
    "    requests.get(tele_message)#Send alert to the telegram bot\n",
    "    requests.get(tele_date_time)#Send date and time to the telegram bot\n",
    "##    print(name+\"\\n\")\n",
    "##    print(message+\"\\n\")\n",
    "##    print(date_time+\"\\n\")\n",
    "    time_left=60-datetime.datetime.now().second#This program was made for 1 minute time frame so to wait for next candle we will wait for 60-(timespent after previous minute)\n",
    "    time.sleep(time_left)#for loop waits for next candlestick\n",
    "    \n"
   ]
  }
 ],
 "metadata": {
  "kernelspec": {
   "display_name": "Python",
   "language": "python",
   "name": "conda-env-python-py"
  },
  "language_info": {
   "codemirror_mode": {
    "name": "ipython",
    "version": 3
   },
   "file_extension": ".py",
   "mimetype": "text/x-python",
   "name": "python",
   "nbconvert_exporter": "python",
   "pygments_lexer": "ipython3",
   "version": "3.6.7"
  }
 },
 "nbformat": 4,
 "nbformat_minor": 4
}
